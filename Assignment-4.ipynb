{
 "cells": [
  {
   "cell_type": "markdown",
   "metadata": {},
   "source": [
    "# 1.1 Write a Python Program(with class concepts) to find the area of the triangle using the below  formula. \n",
    "area = (s*(s-a)*(s-b)*(s-c)) ** 0.5 \n",
    "Function to take the length of the sides of triangle from user should be defined in the parent  class and function to calculate the area should be defined in subclass. \n"
   ]
  },
  {
   "cell_type": "code",
   "execution_count": 11,
   "metadata": {},
   "outputs": [
    {
     "name": "stdout",
     "output_type": "stream",
     "text": [
      "Constructor called\n",
      "8.94\n"
     ]
    }
   ],
   "source": [
    "\n",
    "class Triangle(object):\n",
    "    def __init__(self,a,b,c):\n",
    "        self.a = a\n",
    "        self.b = b\n",
    "        self.c = c\n",
    "        print(\"Constructor called\")\n",
    "\n",
    "class Tri_func(Triangle):\n",
    "    # semi-perimeter\n",
    "    def __init__(self,a,b,c):\n",
    "        Triangle.__init__(self,a,b,c)\n",
    "    \n",
    "    def get_area(self):\n",
    "        s = (self.a + self.b + self.c)/2\n",
    "        return((s*(s-self.a)*(s-self.b)*(s-self.c))**0.5)\n",
    "\n",
    "\n",
    "t = Tri_func(3,6,7)\n",
    "area = t.get_area()\n",
    "print(round(area,2))\n",
    "    \n",
    "    \n",
    "    \n",
    "\n",
    "    "
   ]
  },
  {
   "cell_type": "markdown",
   "metadata": {},
   "source": [
    "# 1.2 Write a function filter_long_words() that takes a list of words and an integer n and returns  the list of words that are longer than n. "
   ]
  },
  {
   "cell_type": "code",
   "execution_count": 22,
   "metadata": {},
   "outputs": [
    {
     "name": "stdout",
     "output_type": "stream",
     "text": [
      "['Science', 'Analytics', 'Postman']\n"
     ]
    }
   ],
   "source": [
    "def filter_long_words(li, n):\n",
    "    temp = []\n",
    "    for i in li:\n",
    "         if len(i) > n:\n",
    "            temp.append(i)\n",
    "    return(temp)\n",
    "\n",
    "words = ['Data','Science','Analytics','Big','Postman','Api']\n",
    "filtered_list = filter_long_words(words,4)\n",
    "print(filtered_list)"
   ]
  },
  {
   "cell_type": "markdown",
   "metadata": {},
   "source": [
    "\n",
    "# 2.1 Write a Python program using function concept that maps list of words into a list of integers  representing the lengths of the corresponding words. \n",
    "Hint: If a list [ ab,cde,erty] is passed on to the python function output should come as [2,3,4] Here 2,3 and 4 are the lengths of the words in the list. \n"
   ]
  },
  {
   "cell_type": "code",
   "execution_count": 16,
   "metadata": {},
   "outputs": [
    {
     "name": "stdout",
     "output_type": "stream",
     "text": [
      "[4, 7, 9, 3, 7, 3]\n"
     ]
    }
   ],
   "source": [
    "def get_n(li):\n",
    "    temp=[]\n",
    "    for i in li:\n",
    "        temp.append(len(i))\n",
    "        \n",
    "    return(temp)\n",
    "\n",
    "words = ['Data','Science','Analytics','Big','Postman','Api']\n",
    "result = get_n(words)\n",
    "print(result)"
   ]
  },
  {
   "cell_type": "markdown",
   "metadata": {},
   "source": [
    "# 2.2 Write a Python function which takes a character (i.e. a string of length 1) and returns True if  it is a vowel, False otherwise. "
   ]
  },
  {
   "cell_type": "code",
   "execution_count": 21,
   "metadata": {},
   "outputs": [
    {
     "name": "stdout",
     "output_type": "stream",
     "text": [
      "False\n",
      "True\n"
     ]
    }
   ],
   "source": [
    "def vowel(c):\n",
    "    vow_list = ['a','e','i','o','u']\n",
    "    if c in vow_list:\n",
    "        return True\n",
    "    else :\n",
    "        return False\n",
    "\n",
    "print(vowel('b'))\n",
    "print(vowel('a'))"
   ]
  }
 ],
 "metadata": {
  "kernelspec": {
   "display_name": "Python 3",
   "language": "python",
   "name": "python3"
  },
  "language_info": {
   "codemirror_mode": {
    "name": "ipython",
    "version": 3
   },
   "file_extension": ".py",
   "mimetype": "text/x-python",
   "name": "python",
   "nbconvert_exporter": "python",
   "pygments_lexer": "ipython3",
   "version": "3.8.5"
  }
 },
 "nbformat": 4,
 "nbformat_minor": 4
}
